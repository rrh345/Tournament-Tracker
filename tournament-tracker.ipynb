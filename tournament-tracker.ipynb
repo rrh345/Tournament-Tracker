{
 "cells": [
  {
   "cell_type": "code",
   "execution_count": 1,
   "metadata": {},
   "outputs": [
    {
     "name": "stdout",
     "output_type": "stream",
     "text": [
      "Welcome to Tournaments R US\n",
      "There are 20 participant slots ready for sign-ups.\n"
     ]
    }
   ],
   "source": [
    "#Start Up\n",
    "print(\"Welcome to Tournaments R US\")\n",
    "slots=int(input(\"Enter the number of participants: \"))\n",
    "print(f\"There are {slots} participant slots ready for sign-ups.\")"
   ]
  }
 ],
 "metadata": {
  "interpreter": {
   "hash": "86d1a67b0d56e74f294bd0a89711776805270fb9ebddae761db44ecf66e3b529"
  },
  "kernelspec": {
   "display_name": "Python 3.9.7 64-bit ('base': conda)",
   "language": "python",
   "name": "python3"
  },
  "language_info": {
   "codemirror_mode": {
    "name": "ipython",
    "version": 3
   },
   "file_extension": ".py",
   "mimetype": "text/x-python",
   "name": "python",
   "nbconvert_exporter": "python",
   "pygments_lexer": "ipython3",
   "version": "3.9.7"
  },
  "orig_nbformat": 4
 },
 "nbformat": 4,
 "nbformat_minor": 2
}
