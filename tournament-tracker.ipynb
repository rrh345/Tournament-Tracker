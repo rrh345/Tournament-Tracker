{
 "cells": [
  {
   "cell_type": "code",
   "execution_count": 15,
   "metadata": {},
   "outputs": [
    {
     "name": "stdout",
     "output_type": "stream",
     "text": [
      "Welcome to Tournaments R US\n",
      "============================\n",
      "Enter the number of participants: \n",
      "\n",
      "There are 20 participant slots ready for sign-ups.\n",
      "\n",
      "Participant Menu\n",
      "================\n",
      "1. Sign Up\n",
      "2. Cancel Sign Up\n",
      "3. View Participants\n",
      "4. Save Changes\n",
      "5. Exit\n",
      "\n",
      "Make a selection:\n",
      "That is not a menu option. Please select a menu option from 1 through 5.\n"
     ]
    }
   ],
   "source": [
    "#Start Up\n",
    "print(\"\"\"Welcome to Tournaments R US\n",
    "============================\n",
    "Enter the number of participants: \n",
    "\"\"\")\n",
    "total_slots=int(input(\"Enter the number of participants: \"))\n",
    "print(f\"There are {slots} participant slots ready for sign-ups.\")\n",
    "\n",
    "#create dictionary\n",
    "dict={}\n",
    "for num in range(1,total_slots):\n",
    "    dict[num] = None\n",
    "\n",
    "#Main Menu\n",
    "print(\"\"\"\n",
    "Participant Menu\n",
    "================\n",
    "1. Sign Up\n",
    "2. Cancel Sign Up\n",
    "3. View Participants\n",
    "4. Save Changes\n",
    "5. Exit\n",
    "\"\"\")\n",
    "\n",
    "print(\"Make a selection:\")\n",
    "menu_selection = int(input(\"Enter 1 for Sign Up.\\nEnter 2 for Cancel Sign Up.\\nEnter 3 for View Participants.\\nEnter 4 for Save Changes.\\nEnter 5 for Exit.\\n\"))\n",
    "\n",
    "if menu_selection == 1:\n",
    "    print(\"Sign Up\")\n",
    "elif menu_selection == 2:\n",
    "    print(\"Cancel Sign Up\")\n",
    "elif menu_selection == 3:\n",
    "    print(\"View Participants\")\n",
    "elif menu_selection == 4:\n",
    "    print(\"Save Changes\")\n",
    "elif menu_selection == 5:\n",
    "    print(\"Exit\")\n",
    "else:\n",
    "    print(\"That is not a menu option. Please select a menu option from 1 through 5.\")\n"
   ]
  }
 ],
 "metadata": {
  "interpreter": {
   "hash": "86d1a67b0d56e74f294bd0a89711776805270fb9ebddae761db44ecf66e3b529"
  },
  "kernelspec": {
   "display_name": "Python 3.9.7 64-bit ('base': conda)",
   "language": "python",
   "name": "python3"
  },
  "language_info": {
   "codemirror_mode": {
    "name": "ipython",
    "version": 3
   },
   "file_extension": ".py",
   "mimetype": "text/x-python",
   "name": "python",
   "nbconvert_exporter": "python",
   "pygments_lexer": "ipython3",
   "version": "3.9.7"
  },
  "orig_nbformat": 4
 },
 "nbformat": 4,
 "nbformat_minor": 2
}
